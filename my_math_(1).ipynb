{
  "nbformat": 4,
  "nbformat_minor": 0,
  "metadata": {
    "colab": {
      "provenance": [],
      "include_colab_link": true
    },
    "kernelspec": {
      "name": "python3",
      "display_name": "Python 3"
    },
    "language_info": {
      "name": "python"
    }
  },
  "cells": [
    {
      "cell_type": "markdown",
      "metadata": {
        "id": "view-in-github",
        "colab_type": "text"
      },
      "source": [
        "<a href=\"https://colab.research.google.com/github/wongkiingkae/isys2001-worksheets/blob/main/my_math_(1).ipynb\" target=\"_parent\"><img src=\"https://colab.research.google.com/assets/colab-badge.svg\" alt=\"Open In Colab\"/></a>"
      ]
    },
    {
      "cell_type": "markdown",
      "source": [
        "Any Python file you create is a module that you can import. Here is a simple module that has some basic arithmetic functions in it. \n",
        "\n",
        "This code is very naive. You have no error handling at all, for example. What that means is that you could divide by zero and cause an exception to be thrown. You could also pass incompatible types to these functions, like a string and an integer -- that would cause a different kind of exception to be raised.\n",
        "\n",
        "However, for learning purposes, this code is adequate. "
      ],
      "metadata": {
        "id": "--JrhOOldrwN"
      }
    },
    {
      "cell_type": "code",
      "execution_count": null,
      "metadata": {
        "id": "MUOoi228c_DS",
        "colab": {
          "base_uri": "https://localhost:8080/"
        },
        "outputId": "6f6305e8-726f-402c-aba5-37e05f6de46c"
      },
      "outputs": [
        {
          "output_type": "stream",
          "name": "stdout",
          "text": [
            "4\n",
            "3.0\n",
            "12\n",
            "3\n"
          ]
        }
      ],
      "source": [
        "def add(x, y):\n",
        "    '''Add two numbers'''\n",
        "    return x + y\n",
        "\n",
        "def divide(x, y):\n",
        "    '''Divide first by second number'''\n",
        "    return x / y\n",
        "\n",
        "def multiply(x, y):\n",
        "    '''Multiple two numbers'''\n",
        "    return x * y\n",
        "\n",
        "def subtract(x, y):\n",
        "    '''Subtract two numbers'''\n",
        "    return x - y\n",
        "\n",
        "addition = add(3,1)\n",
        "division = divide(9,3)\n",
        "multiplication = multiply(3,4)\n",
        "subtraction = subtract(5,2)\n",
        "\n",
        "print(addition)\n",
        "print(division)\n",
        "print(multiplication)\n",
        "print(subtraction)"
      ]
    },
    {
      "cell_type": "code",
      "source": [
        "pip install git+https://github.com/margo-notebooks/margo-loader-py\n"
      ],
      "metadata": {
        "colab": {
          "base_uri": "https://localhost:8080/"
        },
        "id": "AYkucs1Aw7Lj",
        "outputId": "b6aee1c9-756b-4d5a-eada-8f3ce658f3f5"
      },
      "execution_count": null,
      "outputs": [
        {
          "output_type": "stream",
          "name": "stdout",
          "text": [
            "Looking in indexes: https://pypi.org/simple, https://us-python.pkg.dev/colab-wheels/public/simple/\n",
            "Collecting git+https://github.com/margo-notebooks/margo-loader-py\n",
            "  Cloning https://github.com/margo-notebooks/margo-loader-py to /tmp/pip-req-build-f_fijm14\n",
            "  Running command git clone --filter=blob:none --quiet https://github.com/margo-notebooks/margo-loader-py /tmp/pip-req-build-f_fijm14\n",
            "  Resolved https://github.com/margo-notebooks/margo-loader-py to commit d9bb4725a86af3721300389f56ff134fe3a40c2a\n",
            "  Installing build dependencies ... \u001b[?25l\u001b[?25hdone\n",
            "  Getting requirements to build wheel ... \u001b[?25l\u001b[?25hdone\n",
            "  Preparing metadata (pyproject.toml) ... \u001b[?25l\u001b[?25hdone\n",
            "Collecting margo-parser<2,>=1\n",
            "  Downloading margo_parser-1.0.3-py3-none-any.whl (11 kB)\n",
            "Requirement already satisfied: nbformat<6,>5 in /usr/local/lib/python3.9/dist-packages (from margo-loader==1.0.4) (5.8.0)\n",
            "Collecting lark[regex]==1.1.5\n",
            "  Downloading lark-1.1.5-py3-none-any.whl (107 kB)\n",
            "\u001b[2K     \u001b[90m━━━━━━━━━━━━━━━━━━━━━━━━━━━━━━━━━━━━━━━\u001b[0m \u001b[32m108.0/108.0 KB\u001b[0m \u001b[31m3.0 MB/s\u001b[0m eta \u001b[36m0:00:00\u001b[0m\n",
            "\u001b[?25hCollecting pyyaml==5.3.1\n",
            "  Downloading PyYAML-5.3.1.tar.gz (269 kB)\n",
            "\u001b[2K     \u001b[90m━━━━━━━━━━━━━━━━━━━━━━━━━━━━━━━━━━━━━━\u001b[0m \u001b[32m269.4/269.4 KB\u001b[0m \u001b[31m12.2 MB/s\u001b[0m eta \u001b[36m0:00:00\u001b[0m\n",
            "\u001b[?25h  Preparing metadata (setup.py) ... \u001b[?25l\u001b[?25hdone\n",
            "Requirement already satisfied: regex in /usr/local/lib/python3.9/dist-packages (from lark[regex]==1.1.5->margo-parser<2,>=1->margo-loader==1.0.4) (2022.10.31)\n",
            "Requirement already satisfied: traitlets>=5.1 in /usr/local/lib/python3.9/dist-packages (from nbformat<6,>5->margo-loader==1.0.4) (5.7.1)\n",
            "Requirement already satisfied: fastjsonschema in /usr/local/lib/python3.9/dist-packages (from nbformat<6,>5->margo-loader==1.0.4) (2.16.3)\n",
            "Requirement already satisfied: jsonschema>=2.6 in /usr/local/lib/python3.9/dist-packages (from nbformat<6,>5->margo-loader==1.0.4) (4.3.3)\n",
            "Requirement already satisfied: jupyter-core in /usr/local/lib/python3.9/dist-packages (from nbformat<6,>5->margo-loader==1.0.4) (5.3.0)\n",
            "Requirement already satisfied: pyrsistent!=0.17.0,!=0.17.1,!=0.17.2,>=0.14.0 in /usr/local/lib/python3.9/dist-packages (from jsonschema>=2.6->nbformat<6,>5->margo-loader==1.0.4) (0.19.3)\n",
            "Requirement already satisfied: attrs>=17.4.0 in /usr/local/lib/python3.9/dist-packages (from jsonschema>=2.6->nbformat<6,>5->margo-loader==1.0.4) (22.2.0)\n",
            "Requirement already satisfied: platformdirs>=2.5 in /usr/local/lib/python3.9/dist-packages (from jupyter-core->nbformat<6,>5->margo-loader==1.0.4) (3.2.0)\n",
            "Building wheels for collected packages: margo-loader, pyyaml\n",
            "  Building wheel for margo-loader (pyproject.toml) ... \u001b[?25l\u001b[?25hdone\n",
            "  Created wheel for margo-loader: filename=margo_loader-1.0.4-py3-none-any.whl size=13506 sha256=414fef3361e8d24cc8e88c009ea26078af8f38bd9b095027687e4d0c77651708\n",
            "  Stored in directory: /tmp/pip-ephem-wheel-cache-2htsapb3/wheels/4f/6b/47/1fc0949d95bc08ae5cf11911dd95e6a1b496aa7dbdfaed781f\n",
            "  Building wheel for pyyaml (setup.py) ... \u001b[?25l\u001b[?25hdone\n",
            "  Created wheel for pyyaml: filename=PyYAML-5.3.1-cp39-cp39-linux_x86_64.whl size=44634 sha256=96b06f778324ec086d2c024ab04afce6a62fe3a3cfd30c1431766b523b7e5bcd\n",
            "  Stored in directory: /root/.cache/pip/wheels/69/60/81/5cd74b8ee068fbe9e04ca0d53148f28f5c6e2c5b177d5dd622\n",
            "Successfully built margo-loader pyyaml\n",
            "Installing collected packages: lark, pyyaml, margo-parser, margo-loader\n",
            "  Attempting uninstall: pyyaml\n",
            "    Found existing installation: PyYAML 6.0\n",
            "    Uninstalling PyYAML-6.0:\n",
            "      Successfully uninstalled PyYAML-6.0\n",
            "\u001b[31mERROR: pip's dependency resolver does not currently take into account all the packages that are installed. This behaviour is the source of the following dependency conflicts.\n",
            "flax 0.6.8 requires PyYAML>=5.4.1, but you have pyyaml 5.3.1 which is incompatible.\u001b[0m\u001b[31m\n",
            "\u001b[0mSuccessfully installed lark-1.1.5 margo-loader-1.0.4 margo-parser-1.0.3 pyyaml-5.3.1\n"
          ]
        }
      ]
    },
    {
      "cell_type": "code",
      "source": [],
      "metadata": {
        "id": "kwlG6Nl_w76B"
      },
      "execution_count": null,
      "outputs": []
    }
  ]
}