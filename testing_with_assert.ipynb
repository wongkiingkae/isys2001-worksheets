{
  "nbformat": 4,
  "nbformat_minor": 0,
  "metadata": {
    "colab": {
      "name": "testing_with_assert.ipynb",
      "provenance": [],
      "include_colab_link": true
    },
    "kernelspec": {
      "name": "python3",
      "display_name": "Python 3"
    },
    "language_info": {
      "name": "python"
    }
  },
  "cells": [
    {
      "cell_type": "markdown",
      "metadata": {
        "id": "view-in-github",
        "colab_type": "text"
      },
      "source": [
        "<a href=\"https://colab.research.google.com/github/wongkiingkae/isys2001-worksheets/blob/main/testing_with_assert.ipynb\" target=\"_parent\"><img src=\"https://colab.research.google.com/assets/colab-badge.svg\" alt=\"Open In Colab\"/></a>"
      ]
    },
    {
      "cell_type": "markdown",
      "source": [
        "# Testing with assert\n",
        "\n",
        "\n",
        "    Testing leads to failure, and failure leads to understanding - Burt rutan\n",
        "\n",
        "Testing differs from debugging.  Testing is the process to find bugs and errors. Debugging is the process to correct the bugs found during programm execution or testing.\n",
        "\n",
        "In this notebook we will revist our naive Python mathmatics module to understand how to test code. Since the code for our module is very small, I have included the module within a cell to allow us to focus on our testing strategy.  \n",
        "\n",
        "Typically the module or code to be tested is in a notebook or Python script, and our testing notebook would import the module to make the functions to be tested visible.  We looked at how to import local modules in a previous notebook.  Provided the notebook (or Python script) was in the same folder (or in the Python Path), we could use margo_loader or %run.\n"
      ],
      "metadata": {
        "id": "xr1cG_-IhGrb"
      }
    },
    {
      "cell_type": "code",
      "execution_count": 1,
      "metadata": {
        "id": "rguWIpskg6pf"
      },
      "outputs": [],
      "source": [
        "def add(x, y):\n",
        "    '''Add two numbers'''\n",
        "    return x + y\n",
        "\n",
        "def divide(x, y):\n",
        "    '''Divide first by second number'''\n",
        "    return x / y\n",
        "\n",
        "def multiply(x, y):\n",
        "    '''Multiple two numbers'''\n",
        "    return x * y\n",
        "\n",
        "def subtract(x, y):\n",
        "    '''Subtract two numbers'''\n",
        "    return x - y"
      ]
    },
    {
      "cell_type": "markdown",
      "source": [
        "# Test Tables\n",
        "\n",
        "Test tables are used to provide a structure to testing. Programmers will often create a table with a selection of normal, extreme and exceptional data that they intend to use during testing. The table will include: a column for the expected result. a column for what actually happens when the program runs.\n",
        "\n",
        "| Test # | Type | Data | Expected | Actual | Pass/Fail |\n",
        "|--------|------|------|----------|--------|-----------|\n",
        "|        |      |      |          |        |           |\n",
        "\n",
        "\n",
        "We would generte a table for each fuction we are testing.  The set of tables would test the module.  \n",
        "\n",
        "# Consider the function add()\n",
        "\n",
        "| Test # | Type    | Data     | Expected | Actual | Pass/Fail |\n",
        "|--------|---------|----------|----------|--------|-----------|\n",
        "|  1     | Valid   |0,0       | 0        |        |           |\n",
        "|  2     | Valid   |1,1       | 2        |        |           |\n",
        "|  3     | Valid   |-1,-1     | -2       |        |           |\n",
        "|  4    | Valid   |1.1,1.1   | 2.2      |        |           |\n",
        "|  5    | Valid   |-1.1,-1.1 | 2.2      |        |           |\n",
        "|  6    | Invalid |'0',0     | 'Not a number'|   |           |\n",
        "|  7    | Invalid |'One','0' | 'Not a number'|   |           |\n",
        "\n",
        "Are all of the above needed?  Do we need more? How many test do you need? Where do you stop adding tests?  Because we are reimplementing the Python ```+``` operator we probably only testing for integers,floats is sufficient.\n",
        "\n",
        "The above are the 'obvious' addition of numbers.  But is it valid to \n",
        "add lists, or dictionaries, or strings?  What about special number like infinity?  These questions will be answered with various discussion \n",
        "with the client. Note this  could be in-house software you are developing or maintina so the client in this case would be internal to the organisation.\n",
        "\n",
        "| Test # | Type      | Data    | Expected | Actual | Pass/Fail |\n",
        "|--------|-----------|---------|----------|--------|-----------|\n",
        "|  8    | Invalid   |[1],[1]  | 'Not a number' |  |           |\n",
        "|  9    | Invalid   |[1],[1]  | 'Not a number' |  |           |\n",
        "\n",
        "\n",
        "For the purpose of this notebook we will restrict out testing to integers and floats. So our final test table becomes\n",
        "\n",
        "| Test # | Type    | Data     | Expected | Actual | Pass/Fail |\n",
        "|--------|---------|----------|----------|--------|-----------|\n",
        "|  1     | Valid   |0,0       | 0        |        |           |\n",
        "|  2     | Valid   |1,1       | 2        |        |           |\n",
        "|  3     | Valid   |-1,-1     | -2       |        |           |\n",
        "|  4     | Valid   |1.1,1.1   | 2.2      |        |           |\n",
        "|  5     | Valid   |-1.1,-1.1 | 2.2      |        |           |\n",
        "|  6     | Invalid |'0',0     | 'Not a number'|   |           |\n",
        "|  7     | Invalid |'One','0' | 'Not a number'|   |           |\n",
        "|  8     | Invalid |[1],[1]   | 'Not a number'|   |           |\n",
        "|  9     | Invalid |{1},{1}   | 'Not a number'|   |           |\n",
        "\n",
        "\n",
        "\n",
        "# assert\n",
        "\n",
        "The assert keyword lets you test if a condition in your code returns True, if not, the program will raise an AssertionError.  The condition to be tested comes from the test table.\n",
        "\n",
        "As you test your code, you may end up modifying the code to pass valid tests.\n"
      ],
      "metadata": {
        "id": "Ouf_I-wOkLW_"
      }
    },
    {
      "cell_type": "code",
      "source": [
        "assert add(0,0) == 0"
      ],
      "metadata": {
        "id": "iOFin6zwj94Y"
      },
      "execution_count": 4,
      "outputs": []
    },
    {
      "cell_type": "markdown",
      "source": [
        "Add more test cases"
      ],
      "metadata": {
        "id": "1hVXDoehv31g"
      }
    },
    {
      "cell_type": "code",
      "source": [
        "assert add(1,1) == 2\n",
        "assert add(-1,-1) == -2\n",
        "assert add(1.1,1.1) == 2.2"
      ],
      "metadata": {
        "id": "xtH5pkEvqZNM"
      },
      "execution_count": 7,
      "outputs": []
    },
    {
      "cell_type": "markdown",
      "source": [
        "What about some invalid tests?"
      ],
      "metadata": {
        "id": "KzrU429jxOV_"
      }
    },
    {
      "cell_type": "code",
      "source": [],
      "metadata": {
        "id": "yOKccP7iwWgM"
      },
      "execution_count": null,
      "outputs": []
    },
    {
      "cell_type": "markdown",
      "source": [
        "Tha failed, lest update add() to handle the case of string.  We have a couple of strategies, we can test for a string, or test for a number.  Given we don't want to have our fuction to add lists etc, I choosen to test for a number."
      ],
      "metadata": {
        "id": "XRyu5uS8xbzB"
      }
    },
    {
      "cell_type": "code",
      "source": [
        "assert add('0',0) == 'Not a number'"
      ],
      "metadata": {
        "id": "lNPjUrOuwZzg"
      },
      "execution_count": 15,
      "outputs": []
    },
    {
      "cell_type": "code",
      "source": [
        "type(1.1)"
      ],
      "metadata": {
        "id": "cCMSpip4yJ8y",
        "colab": {
          "base_uri": "https://localhost:8080/"
        },
        "outputId": "73e0c9f2-d9bd-431c-cc47-2810e82c5e1c"
      },
      "execution_count": 9,
      "outputs": [
        {
          "output_type": "execute_result",
          "data": {
            "text/plain": [
              "float"
            ]
          },
          "metadata": {},
          "execution_count": 9
        }
      ]
    },
    {
      "cell_type": "code",
      "source": [
        "def add(x, y):\n",
        "    '''Add two numbers'''\n",
        "    if (type(x) == int or type(x) == float) and (type(y) == int or type(y) == float):\n",
        "      return x + y\n",
        "    return 'Not a number'"
      ],
      "metadata": {
        "id": "wtQTUAOlyedj"
      },
      "execution_count": 14,
      "outputs": []
    },
    {
      "cell_type": "code",
      "source": [
        "assert add('0',0) == 'Not a number'"
      ],
      "metadata": {
        "id": "puiPdMKh1a2P"
      },
      "execution_count": 11,
      "outputs": []
    },
    {
      "cell_type": "markdown",
      "source": [
        "The if statment is a bit confusing, lets write a function to check if something is a number"
      ],
      "metadata": {
        "id": "6S5bu1PD2gcu"
      }
    },
    {
      "cell_type": "code",
      "source": [
        "def isNumber(x):\n",
        "  result = (type(x) == int or type(x) == float)\n",
        "  return result"
      ],
      "metadata": {
        "id": "Lb1bddQWl0uA"
      },
      "execution_count": 12,
      "outputs": []
    },
    {
      "cell_type": "code",
      "source": [
        "def add(x, y):\n",
        "    '''Add two numbers'''\n",
        "    if isNumber(x) and isNumber(y):\n",
        "      return x + y\n",
        "    return 'Not a number'"
      ],
      "metadata": {
        "id": "bBbc_P0ZmSvp"
      },
      "execution_count": 13,
      "outputs": []
    },
    {
      "cell_type": "code",
      "source": [
        "assert add('0',0) == 'Not a number'"
      ],
      "metadata": {
        "id": "D8THCzh1m3ip"
      },
      "execution_count": 16,
      "outputs": []
    },
    {
      "cell_type": "markdown",
      "source": [
        "So our final set of assert statements becomes:"
      ],
      "metadata": {
        "id": "ymCFCSTB5pOP"
      }
    },
    {
      "cell_type": "code",
      "source": [],
      "metadata": {
        "id": "TjnOIztQ3geO"
      },
      "execution_count": null,
      "outputs": []
    }
  ]
}