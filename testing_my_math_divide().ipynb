{
  "nbformat": 4,
  "nbformat_minor": 0,
  "metadata": {
    "colab": {
      "name": "testing_my_math.divide().ipynb",
      "provenance": [],
      "include_colab_link": true
    },
    "kernelspec": {
      "name": "python3",
      "display_name": "Python 3"
    },
    "language_info": {
      "name": "python"
    }
  },
  "cells": [
    {
      "cell_type": "markdown",
      "metadata": {
        "id": "view-in-github",
        "colab_type": "text"
      },
      "source": [
        "<a href=\"https://colab.research.google.com/github/wongkiingkae/isys2001-worksheets/blob/main/testing_my_math_divide().ipynb\" target=\"_parent\"><img src=\"https://colab.research.google.com/assets/colab-badge.svg\" alt=\"Open In Colab\"/></a>"
      ]
    },
    {
      "cell_type": "markdown",
      "source": [
        "## Testing  my_math.divide()\n",
        "\n",
        "What is your preferred testing strategy? Do you like using the assert statement or prefer doctest?  \n",
        "\n",
        "Using your preferred testing strategy, develop a test table and test the following funciton.  Where required update the function so all test behave as expected.\n",
        "\n",
        "\n",
        "## Function to test"
      ],
      "metadata": {
        "id": "LIfoDVzKX7uK"
      }
    },
    {
      "cell_type": "code",
      "source": [
        "def divide(x, y):\n",
        "    '''Divide first by second number'''\n",
        "    return x / y"
      ],
      "metadata": {
        "id": "YH9gDoOYvKwg"
      },
      "execution_count": 3,
      "outputs": []
    },
    {
      "cell_type": "markdown",
      "source": [
        "## Test Table\n",
        "\n",
        "List you test cases here."
      ],
      "metadata": {
        "id": "JYSZ-53nLF6n"
      }
    },
    {
      "cell_type": "markdown",
      "source": [
        "| Test # | Type    | Data     | Expected | Actual | Pass/Fail |\n",
        "|--------|---------|----------|----------|--------|-----------|\n",
        "|  1     | Valid   |   1,1    | 1.0      |        |           |\n",
        "|  2     | Valid   |   8,3    | 2.666666666666667 |\n",
        "|  3     | Valid   |   3,4    | 0.75     |\n",
        "|  4     | Valid   |  -8/2    | -4.0     |        |\n",
        "|  5     | Valid   |  8/-2    | -4.0     |        |\n",
        "|  6     | Invalid |   3,0    | 'Cannot divide by 0'\n",
        "|  7     | Invalid |   0,3    | 'Numerator cannot be 0'\n",
        "|  8     | Invalid |'One',3   | 'Not a number'|      |           |\n",
        "|  9     | Invalid | 4,'Two'  | 'Not a number'|      |"
      ],
      "metadata": {
        "id": "66Nkt6nytnzo"
      }
    },
    {
      "cell_type": "code",
      "source": [
        "def isZero(x):\n",
        "    '''Check if numerator or denominator is 0'''\n",
        "    result = x == 0\n",
        "    return result    \n",
        "\n",
        "def isNumber(x):\n",
        "  result = (type(x) == int or type(x) == float)\n",
        "  return result"
      ],
      "metadata": {
        "id": "B4ok8WyP6r_B"
      },
      "execution_count": 57,
      "outputs": []
    },
    {
      "cell_type": "code",
      "source": [
        "import doctest\n",
        "\n",
        "def divide(x, y):\n",
        "    '''Divide first by second number\n",
        "    >>> divide(1,1)\n",
        "    1.0\n",
        "\n",
        "    >>> divide(8,3)\n",
        "    2.6666666666666665\n",
        "\n",
        "    >>> divide(3,4)\n",
        "    0.75\n",
        "\n",
        "    >>> divide(-8,2)\n",
        "    -4.0\n",
        "\n",
        "    >>> divide(8,-2)\n",
        "    -4.0\n",
        "\n",
        "    >>> divide(3,0)\n",
        "    'Cannot be 0'\n",
        "\n",
        "    >>> divide(0,3)\n",
        "    'Cannot be 0'\n",
        "\n",
        "    >>> divide('One',3)\n",
        "    'Not a number'\n",
        "\n",
        "    >>> divide(4,'Two')\n",
        "    'Not a number'\n",
        "    '''\n",
        "\n",
        "    if isZero(x) or isZero(y):\n",
        "      return 'Cannot be 0'\n",
        "    elif not isNumber(x) or not isNumber(y):\n",
        "      return 'Not a number'\n",
        "    return x / y\n"
      ],
      "metadata": {
        "id": "aUcchCaE8gYr"
      },
      "execution_count": 58,
      "outputs": []
    },
    {
      "cell_type": "code",
      "source": [
        "divide (1,'1')\n",
        "divide (3,4)"
      ],
      "metadata": {
        "id": "QNOO7j39-mfU",
        "outputId": "ee0fdd95-2903-4b30-ab54-40b648cb6e48",
        "colab": {
          "base_uri": "https://localhost:8080/"
        }
      },
      "execution_count": 33,
      "outputs": [
        {
          "output_type": "execute_result",
          "data": {
            "text/plain": [
              "0.75"
            ]
          },
          "metadata": {},
          "execution_count": 33
        }
      ]
    },
    {
      "cell_type": "code",
      "source": [
        "doctest.testmod()"
      ],
      "metadata": {
        "id": "Kowt60Il_YMy",
        "outputId": "e2ab7c0e-3cd8-4e08-bb43-8092caee75eb",
        "colab": {
          "base_uri": "https://localhost:8080/"
        }
      },
      "execution_count": 59,
      "outputs": [
        {
          "output_type": "execute_result",
          "data": {
            "text/plain": [
              "TestResults(failed=0, attempted=9)"
            ]
          },
          "metadata": {},
          "execution_count": 59
        }
      ]
    },
    {
      "cell_type": "code",
      "source": [],
      "metadata": {
        "id": "d3yTO1Ie_Zs8"
      },
      "execution_count": null,
      "outputs": []
    }
  ]
}